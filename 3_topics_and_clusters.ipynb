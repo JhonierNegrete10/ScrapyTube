{
 "cells": [
  {
   "cell_type": "code",
   "execution_count": null,
   "metadata": {},
   "outputs": [],
   "source": [
    "# Implementar algoritmo de agrupación (por ejemplo, K-Means)\n",
    "from sklearn.feature_extraction.text import TfidfVectorizer\n",
    "from sklearn.cluster import KMeans\n",
    "import pandas as pd "
   ]
  },
  {
   "cell_type": "code",
   "execution_count": null,
   "metadata": {},
   "outputs": [],
   "source": [
    "df = pd.read_csv()"
   ]
  },
  {
   "cell_type": "code",
   "execution_count": null,
   "metadata": {},
   "outputs": [],
   "source": [
    "tfidf_vectorizer = TfidfVectorizer()\n",
    "tfidf_matrix = tfidf_vectorizer.fit_transform(df['titulo_video'])\n",
    "num_clusters = 10  # Número de clusters (temáticas)\n",
    "kmeans = KMeans(n_clusters=num_clusters)\n",
    "kmeans.fit(tfidf_matrix)\n",
    "\n",
    "# Agregar columna de cluster al DataFrame\n",
    "df['cluster'] = kmeans.labels_"
   ]
  },
  {
   "cell_type": "code",
   "execution_count": null,
   "metadata": {},
   "outputs": [],
   "source": [
    "df.cluster.value_counts()"
   ]
  },
  {
   "cell_type": "markdown",
   "metadata": {},
   "source": [
    "with spacy "
   ]
  },
  {
   "cell_type": "code",
   "execution_count": null,
   "metadata": {},
   "outputs": [],
   "source": [
    "import spacy\n",
    "\n",
    "# Cargar modelo de lenguaje spaCy\n",
    "# es_core_news_lg\n",
    "# en_core_web_sm\n",
    "nlp = spacy.load(\"en_core_web_lg\")\n",
    "\n",
    "# Crear un knowledge graph\n",
    "knowledge_graph = {}\n",
    "\n",
    "for index, row in df.iterrows():\n",
    "    doc = nlp(row['titulo_video'])\n",
    "    keywords = [token.lemma_ for token in doc if token.is_alpha and not token.is_stop]\n",
    "    for keyword in keywords:\n",
    "        if keyword not in knowledge_graph:\n",
    "            knowledge_graph[keyword] = set()\n",
    "        knowledge_graph[keyword].add(row['titulo_video'])\n",
    "\n",
    "# Imprimir el knowledge graph\n",
    "for keyword, related_videos in knowledge_graph.items():\n",
    "    print(f\"{keyword}: {related_videos}\")"
   ]
  }
 ],
 "metadata": {
  "kernelspec": {
   "display_name": "venv",
   "language": "python",
   "name": "python3"
  },
  "language_info": {
   "name": "python",
   "version": "3.10.10"
  },
  "orig_nbformat": 4
 },
 "nbformat": 4,
 "nbformat_minor": 2
}
